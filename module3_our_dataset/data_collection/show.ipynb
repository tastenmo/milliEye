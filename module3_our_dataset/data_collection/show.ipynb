{
 "cells": [
  {
   "cell_type": "code",
   "execution_count": 1,
   "metadata": {},
   "outputs": [
    {
     "name": "stderr",
     "output_type": "stream",
     "text": [
      "/home/heubuchm/devel/milliEye/.venv/lib/python3.11/site-packages/matplotlib/projections/__init__.py:63: UserWarning: Unable to import Axes3D. This may be due to multiple versions of Matplotlib being installed (e.g. as a system package and as a pip package). As a result, the 3D projection is not available.\n",
      "  warnings.warn(\"Unable to import Axes3D. This may be due to multiple versions of \"\n"
     ]
    }
   ],
   "source": [
    "import cv2\n",
    "import numpy as np\n",
    "import time\n",
    "import os\n",
    "from picamera2 import Picamera2\n",
    "import matplotlib.pyplot as plt \n",
    "from IPython.display import display, Image\n",
    "import ipywidgets as widgets\n",
    "import threading\n",
    "import multiprocessing as mp\n",
    "from collections import deque\n",
    "#from show import *\n",
    "from utils.ReadRadar import *\n",
    "from utils.tracking import *\n",
    "from utils.utils import *\n",
    "from realtime_show import *"
   ]
  },
  {
   "cell_type": "code",
   "execution_count": 2,
   "metadata": {},
   "outputs": [
    {
     "name": "stdout",
     "output_type": "stream",
     "text": [
      "0\n"
     ]
    }
   ],
   "source": [
    "# Stop button\n",
    "# ================\n",
    "stopButton = widgets.ToggleButton(\n",
    "    value=False,\n",
    "    description='Stop',\n",
    "    disabled=False,\n",
    "    button_style='danger', # 'success', 'info', 'warning', 'danger' or ''\n",
    "    tooltip='Description',\n",
    "    icon='square' # (FontAwesome names without the `fa-` prefix)\n",
    ")"
   ]
  },
  {
   "cell_type": "code",
   "execution_count": 3,
   "metadata": {},
   "outputs": [],
   "source": [
    "# Display function\n",
    "# ================\n",
    "def view(button):\n",
    "    display_handle=display(None, display_id=True)\n",
    "\n",
    "    # Camera Initialization\n",
    "    #video_fps = 30\n",
    "    #cap = cv2.VideoCapture(0)\n",
    "    #cap.set(3, 640)\t\n",
    "    #cap.set(4, 480)\n",
    "    #cap.set(5, video_fps)\n",
    "\n",
    "    picam2 = Picamera2()\n",
    "    picam2.configure(picam2.create_preview_configuration(main={\"format\": 'XRGB8888', \"size\": (640, 480)}))\n",
    "    picam2.start()\n",
    "\n",
    "    # Radar Initialization\n",
    "    radar = readradar('./cfg/gim.cfg')\n",
    "\n",
    "    # Configurate the serial port\n",
    "    CLIport, Dataport = {}, {} \n",
    "    CLIport, Dataport = serialConfig(radar.configFileName)\n",
    "\n",
    "    # Get the configuration parameters from the configuration file\n",
    "    configParameters = parseConfigFile(radar.configFileName)\n",
    "\n",
    "    detObj = {}  \n",
    "    points_buffer = deque()   \n",
    "\n",
    "    while True:\n",
    "        time.sleep(1)\n",
    "        time_start=time.time()\n",
    "\n",
    "        # read video frames, it is a block operation\n",
    "        #ret, frame = cap.read()\n",
    "        frame = picam2.capture_array()\n",
    "\n",
    "        # read radar frames\n",
    "        dataOk = 0\n",
    "\n",
    "        dataOk, frameNumber, detObj, timestamp = radar.readAndParseData68xx(Dataport, configParameters)\n",
    "        print(dataOk)\n",
    "\n",
    "        # check if there is data\n",
    "        if dataOk:\n",
    "            print('frameNumber: ', frameNumber, ' Detected Objects: ', detObj[\"numObj\"])\n",
    "            x, y, z = detObj[\"x\"], detObj[\"y\"], detObj[\"z\"]\n",
    "            points_3d = np.array([x, y, z])\n",
    "\n",
    "            # projection\n",
    "            calib_param = load_calib(\"./yaml/calibration.yaml\")\n",
    "            #points_2d = projection(points_3d, calib_param)\n",
    "\n",
    "            # show\n",
    "            #for i in points_2d:\n",
    "            #    cv2.circle(frame, (i[0], i[1]), 7, (0,0,255), -1)\n",
    "            #    display_handle.update(Image(data=frame.tobytes()))\n",
    "                #cv2.imshow(\"capture\", frame)\n",
    "                #plt.imshow(image)\n",
    "        _, frame = cv2.imencode('.png', frame)\n",
    "        display_handle.update(Image(data=frame.tobytes()))\n",
    "\n",
    "        time_end = time.time()\n",
    "        #print('time cost', time_end-time_start,'s') \n",
    "\n",
    "        if stopButton.value==True:\n",
    "            #cap.release()\n",
    "            picam2.stop()\n",
    "            picam2.close()\n",
    "            display_handle.update(None)"
   ]
  },
  {
   "cell_type": "code",
   "execution_count": 4,
   "metadata": {},
   "outputs": [
    {
     "data": {
      "application/vnd.jupyter.widget-view+json": {
       "model_id": "06cb3b79f4cc4485b8392f9b05be86ea",
       "version_major": 2,
       "version_minor": 0
      },
      "text/plain": [
       "ToggleButton(value=False, button_style='danger', description='Stop', icon='square', tooltip='Description')"
      ]
     },
     "metadata": {},
     "output_type": "display_data"
    },
    {
     "data": {
      "text/plain": [
       "None"
      ]
     },
     "metadata": {},
     "output_type": "display_data"
    },
    {
     "name": "stderr",
     "output_type": "stream",
     "text": [
      "[0:28:07.031544203] [3196] \u001b[1;32m INFO \u001b[1;37mCamera \u001b[1;34mcamera_manager.cpp:284 \u001b[0mlibcamera v0.1.0+118-563cd78e\n",
      "[0:28:07.100649193] [3197] \u001b[1;33m WARN \u001b[1;37mRPiSdn \u001b[1;34msdn.cpp:39 \u001b[0mUsing legacy SDN tuning - please consider moving SDN inside rpi.denoise\n",
      "[0:28:07.104474300] [3197] \u001b[1;32m INFO \u001b[1;37mRPI \u001b[1;34mvc4.cpp:444 \u001b[0mRegistered camera /base/soc/i2c0mux/i2c@1/ov5647@36 to Unicam device /dev/media3 and ISP device /dev/media0\n",
      "[0:28:07.104563352] [3197] \u001b[1;32m INFO \u001b[1;37mRPI \u001b[1;34mpipeline_base.cpp:1142 \u001b[0mUsing configuration file '/usr/share/libcamera/pipeline/rpi/vc4/rpi_apps.yaml'\n",
      "[0:28:07.113111938] [3196] \u001b[1;32m INFO \u001b[1;37mCamera \u001b[1;34mcamera_manager.cpp:284 \u001b[0mlibcamera v0.1.0+118-563cd78e\n",
      "[0:28:07.164604315] [3200] \u001b[1;33m WARN \u001b[1;37mRPiSdn \u001b[1;34msdn.cpp:39 \u001b[0mUsing legacy SDN tuning - please consider moving SDN inside rpi.denoise\n",
      "[0:28:07.167287263] [3200] \u001b[1;32m INFO \u001b[1;37mRPI \u001b[1;34mvc4.cpp:444 \u001b[0mRegistered camera /base/soc/i2c0mux/i2c@1/ov5647@36 to Unicam device /dev/media3 and ISP device /dev/media0\n",
      "[0:28:07.167349150] [3200] \u001b[1;32m INFO \u001b[1;37mRPI \u001b[1;34mpipeline_base.cpp:1142 \u001b[0mUsing configuration file '/usr/share/libcamera/pipeline/rpi/vc4/rpi_apps.yaml'\n"
     ]
    },
    {
     "name": "stderr",
     "output_type": "stream",
     "text": [
      "[0:28:07.180839909] [3196] \u001b[1;32m INFO \u001b[1;37mCamera \u001b[1;34mcamera.cpp:1183 \u001b[0mconfiguring streams: (0) 640x480-XRGB8888 (1) 640x480-SGBRG10_CSI2P\n",
      "[0:28:07.181411442] [3200] \u001b[1;32m INFO \u001b[1;37mRPI \u001b[1;34mvc4.cpp:608 \u001b[0mSensor: /base/soc/i2c0mux/i2c@1/ov5647@36 - Selected sensor format: 640x480-SGBRG10_1X10 - Selected unicam format: 640x480-pGAA\n"
     ]
    },
    {
     "name": "stdout",
     "output_type": "stream",
     "text": [
      "sensorStop\n",
      "flushCfg\n",
      "dfeDataOutputMode 1\n",
      "channelCfg 15 7 0\n",
      "adcCfg 2 1\n",
      "adcbufCfg -1 0 1 1 1\n",
      "profileCfg 0 60 761 7 40 0 0 100 1 64 2000 0 0 158\n",
      "chirpCfg 0 0 0 0 0 0 0 1\n",
      "chirpCfg 1 1 0 0 0 0 0 2\n",
      "chirpCfg 2 2 0 0 0 0 0 4\n",
      "frameCfg 0 2 16 0 200 1 0\n",
      "lowPower 0 0\n",
      "guiMonitor -1 1 1 0 0 0 1\n",
      "cfarCfg -1 0 2 8 4 3 0 0 0\n",
      "cfarCfg -1 1 0 4 2 3 1 5 1\n",
      "multiObjBeamForming -1 1 0.5\n",
      "clutterRemoval -1 0\n",
      "calibDcRangeSig -1 0 -5 8 256\n",
      "extendedMaxVelocity -1 0\n",
      "lvdsStreamCfg -1 0 0 0\n",
      "compRangeBiasAndRxChanPhase 0 1 0 -1 0 1 0 -1 0 1 0 -1 0 1 0 -1 0 1 0 -1 0 1 0 -1 0\n",
      "measureRangeBiasAndRxChanPhase 0 1.5 0.2\n",
      "CQRxSatMonitor 0 3 4 99 0\n",
      "CQSigImgMonitor 0 31 4\n",
      "analogMonitor 0 0\n",
      "aoaFovCfg -1 -90 90 -20 90\n",
      "cfarFovCfg -1 0 0.2 1.5\n",
      "cfarFovCfg -1 1 -0.52 0.52\n",
      "calibData 0 0 0\n",
      "sensorStart\n",
      "0\n",
      "0\n",
      "0\n",
      "0\n",
      "0\n",
      "0\n",
      "0\n",
      "0\n",
      "0\n",
      "0\n",
      "0\n",
      "0\n",
      "0\n",
      "0\n",
      "0\n",
      "0\n",
      "0\n",
      "0\n",
      "0\n",
      "0\n",
      "0\n",
      "0\n",
      "0\n",
      "0\n",
      "0\n",
      "0\n",
      "0\n",
      "0\n",
      "0\n",
      "0\n",
      "0\n",
      "0\n",
      "0\n",
      "0\n",
      "0\n",
      "0\n",
      "0\n",
      "0\n",
      "0\n",
      "0\n",
      "0\n",
      "0\n",
      "0\n",
      "0\n",
      "0\n",
      "0\n"
     ]
    }
   ],
   "source": [
    "# Run\n",
    "# ================\n",
    "display(stopButton)\n",
    "thread = threading.Thread(target=view, args=(stopButton,))\n",
    "thread.start()"
   ]
  }
 ],
 "metadata": {
  "kernelspec": {
   "display_name": ".venv",
   "language": "python",
   "name": "python3"
  },
  "language_info": {
   "codemirror_mode": {
    "name": "ipython",
    "version": 3
   },
   "file_extension": ".py",
   "mimetype": "text/x-python",
   "name": "python",
   "nbconvert_exporter": "python",
   "pygments_lexer": "ipython3",
   "version": "3.11.2"
  }
 },
 "nbformat": 4,
 "nbformat_minor": 2
}
